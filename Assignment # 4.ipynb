{
 "cells": [
  {
   "cell_type": "code",
   "execution_count": 1,
   "id": "007f5c39",
   "metadata": {},
   "outputs": [],
   "source": [
    "\n",
    "class Apple:\n",
    " pass\n"
   ]
  },
  {
   "cell_type": "code",
   "execution_count": 3,
   "id": "f5a5bc55",
   "metadata": {},
   "outputs": [
    {
     "name": "stdout",
     "output_type": "stream",
     "text": [
      "red\n"
     ]
    }
   ],
   "source": [
    "\n",
    "class Apple:\n",
    " pass\n",
    "class Apple:\n",
    " color=\"\"\n",
    " flavor=\"\"\n",
    "jonagold=Apple()\n",
    "jonagold.color=\"red\"\n",
    "jonagold.flavour=\"sweet\"\n",
    "print(jonagold.color)"
   ]
  },
  {
   "cell_type": "code",
   "execution_count": 4,
   "id": "766798a7",
   "metadata": {},
   "outputs": [
    {
     "name": "stdout",
     "output_type": "stream",
     "text": [
      "sweet\n"
     ]
    }
   ],
   "source": [
    "\n",
    "print(jonagold.flavour)\n"
   ]
  },
  {
   "cell_type": "code",
   "execution_count": 5,
   "id": "a433ba75",
   "metadata": {},
   "outputs": [
    {
     "name": "stdout",
     "output_type": "stream",
     "text": [
      "Roses are red,\n",
      "violet are blue,\n",
      "Sugar is sweet, and so are you.\n"
     ]
    }
   ],
   "source": [
    "class Flower:\n",
    " color='unknown'\n",
    "rose=Flower()\n",
    "rose.color=\"red\"\n",
    "violet=Flower()\n",
    "violet.color=\"blue\"\n",
    "this_pun_is_for_you=\"Sugar is sweet, and so are you.\"\n",
    "print(\"Roses are {},\".format(rose.color))\n",
    "print(\"violet are {},\".format(violet.color))\n",
    "print(this_pun_is_for_you)\n"
   ]
  },
  {
   "cell_type": "code",
   "execution_count": 10,
   "id": "4725ad5c",
   "metadata": {},
   "outputs": [
    {
     "ename": "IndentationError",
     "evalue": "unindent does not match any outer indentation level (<tokenize>, line 3)",
     "output_type": "error",
     "traceback": [
      "\u001b[1;36m  File \u001b[1;32m<tokenize>:3\u001b[1;36m\u001b[0m\n\u001b[1;33m    print(\"Meow Meow Meow ...\")\u001b[0m\n\u001b[1;37m    ^\u001b[0m\n\u001b[1;31mIndentationError\u001b[0m\u001b[1;31m:\u001b[0m unindent does not match any outer indentation level\n"
     ]
    }
   ],
   "source": [
    "class Cat:\n",
    "     def speak(self):\n",
    "    print(\"Meow Meow Meow ...\")\n",
    "myCat=Cat()\n",
    "myCat.speak()"
   ]
  },
  {
   "cell_type": "code",
   "execution_count": 17,
   "id": "48b3a73d",
   "metadata": {},
   "outputs": [
    {
     "name": "stdout",
     "output_type": "stream",
     "text": [
      "Meow! I'm Luna! Meow\n"
     ]
    }
   ],
   "source": [
    "class Cat:\n",
    "    name=\"\"\n",
    "    def speak(self):\n",
    "        print(\"Meow! I'm {}! Meow\".format(self.name))\n",
    "myLuna=Cat()\n",
    "myLuna.name=\"Luna\"\n",
    "myLuna.speak()\n"
   ]
  },
  {
   "cell_type": "code",
   "execution_count": 16,
   "id": "19892ce2",
   "metadata": {},
   "outputs": [
    {
     "name": "stdout",
     "output_type": "stream",
     "text": [
      "Meow! I'm Luna! Meow\n",
      "Meow! I'm Luna! Meow\n"
     ]
    }
   ],
   "source": [
    "class Cat:\n",
    "    name=\"\"\n",
    "    def speak(self):\n",
    "        print(\"Meow! I'm {}! Meow\".format(self.name))\n",
    "myLuna=Cat()\n",
    "myLuna.name=\"Luna\"\n",
    "myLuna.speak()\n",
    "\n",
    "myBella=Cat()\n",
    "myBella.name=\"Luna\"\n",
    "myBella.speak()"
   ]
  },
  {
   "cell_type": "code",
   "execution_count": 19,
   "id": "b5ee0178",
   "metadata": {},
   "outputs": [
    {
     "data": {
      "text/plain": [
       "0"
      ]
     },
     "execution_count": 19,
     "metadata": {},
     "output_type": "execute_result"
    }
   ],
   "source": [
    "class Cat:\n",
    "    years=0\n",
    "    def age(self):\n",
    "        return self.years*12\n",
    "myLuna=Cat()\n",
    "myLuna.age()"
   ]
  },
  {
   "cell_type": "code",
   "execution_count": 20,
   "id": "508265f8",
   "metadata": {},
   "outputs": [
    {
     "data": {
      "text/plain": [
       "24"
      ]
     },
     "execution_count": 20,
     "metadata": {},
     "output_type": "execute_result"
    }
   ],
   "source": [
    "class Cat:\n",
    "    years=0\n",
    "    def age(self):\n",
    "        return self.years*12\n",
    "myLuna=Cat()\n",
    "myLuna.years=2\n",
    "myLuna.age()"
   ]
  },
  {
   "cell_type": "code",
   "execution_count": null,
   "id": "cdd84576",
   "metadata": {},
   "outputs": [],
   "source": []
  }
 ],
 "metadata": {
  "kernelspec": {
   "display_name": "Python 3 (ipykernel)",
   "language": "python",
   "name": "python3"
  },
  "language_info": {
   "codemirror_mode": {
    "name": "ipython",
    "version": 3
   },
   "file_extension": ".py",
   "mimetype": "text/x-python",
   "name": "python",
   "nbconvert_exporter": "python",
   "pygments_lexer": "ipython3",
   "version": "3.11.4"
  }
 },
 "nbformat": 4,
 "nbformat_minor": 5
}
